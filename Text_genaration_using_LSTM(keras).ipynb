{
  "nbformat": 4,
  "nbformat_minor": 0,
  "metadata": {
    "colab": {
      "name": "Text genaration using LSTM(keras).ipynb",
      "provenance": [],
      "collapsed_sections": []
    },
    "kernelspec": {
      "name": "python3",
      "display_name": "Python 3"
    },
    "accelerator": "GPU"
  },
  "cells": [
    {
      "cell_type": "code",
      "metadata": {
        "id": "hUyK8F9taUtY",
        "colab_type": "code",
        "outputId": "fe88ee8e-38aa-471c-ab69-90dd02d9714e",
        "colab": {
          "base_uri": "https://localhost:8080/",
          "height": 63
        }
      },
      "source": [
        "from tensorflow.keras.preprocessing.sequence import pad_sequences\n",
        "from tensorflow.keras.layers import Embedding, LSTM, Dense, Dropout, Bidirectional\n",
        "from tensorflow.keras.preprocessing.text import Tokenizer\n",
        "from tensorflow.keras.models import Sequential\n",
        "from tensorflow.keras.optimizers import Adam\n",
        "from tensorflow.keras import regularizers\n",
        "import tensorflow.keras.utils as ku \n",
        "import numpy as np "
      ],
      "execution_count": 0,
      "outputs": [
        {
          "output_type": "display_data",
          "data": {
            "text/html": [
              "<p style=\"color: red;\">\n",
              "The default version of TensorFlow in Colab will soon switch to TensorFlow 2.x.<br>\n",
              "We recommend you <a href=\"https://www.tensorflow.org/guide/migrate\" target=\"_blank\">upgrade</a> now \n",
              "or ensure your notebook will continue to use TensorFlow 1.x via the <code>%tensorflow_version 1.x</code> magic:\n",
              "<a href=\"https://colab.research.google.com/notebooks/tensorflow_version.ipynb\" target=\"_blank\">more info</a>.</p>\n"
            ],
            "text/plain": [
              "<IPython.core.display.HTML object>"
            ]
          },
          "metadata": {
            "tags": []
          }
        }
      ]
    },
    {
      "cell_type": "code",
      "metadata": {
        "id": "p6qbkp8zafwC",
        "colab_type": "code",
        "outputId": "c8249f97-99be-4afc-c103-d2583fb83007",
        "colab": {
          "base_uri": "https://localhost:8080/",
          "height": 204
        }
      },
      "source": [
        "#collect all the training data and separate them using\"/n\"\n",
        "tokenizer = Tokenizer()\n",
        "!wget --no-check-certificate \\\n",
        "    https://storage.googleapis.com/laurencemoroney-blog.appspot.com/sonnets.txt \\\n",
        "    -O /tmp/sonnets.txt\n",
        "data = open('/tmp/sonnets.txt').read()\n",
        "\n",
        "corpus = data.lower().split(\"\\n\")"
      ],
      "execution_count": 0,
      "outputs": [
        {
          "output_type": "stream",
          "text": [
            "--2019-10-26 04:55:54--  https://storage.googleapis.com/laurencemoroney-blog.appspot.com/sonnets.txt\n",
            "Resolving storage.googleapis.com (storage.googleapis.com)... 172.217.214.128, 2607:f8b0:4001:c07::80\n",
            "Connecting to storage.googleapis.com (storage.googleapis.com)|172.217.214.128|:443... connected.\n",
            "HTTP request sent, awaiting response... 200 OK\n",
            "Length: 93578 (91K) [text/plain]\n",
            "Saving to: ‘/tmp/sonnets.txt’\n",
            "\n",
            "/tmp/sonnets.txt    100%[===================>]  91.38K  --.-KB/s    in 0.001s  \n",
            "\n",
            "2019-10-26 04:55:59 (97.7 MB/s) - ‘/tmp/sonnets.txt’ saved [93578/93578]\n",
            "\n"
          ],
          "name": "stdout"
        }
      ]
    },
    {
      "cell_type": "code",
      "metadata": {
        "id": "9e51NGZQbADS",
        "colab_type": "code",
        "outputId": "a33545f2-ddc3-426c-b57b-25f1c02843dd",
        "colab": {
          "base_uri": "https://localhost:8080/",
          "height": 34
        }
      },
      "source": [
        "tokenizer.fit_on_texts(corpus)\n",
        "total_words = len(tokenizer.word_index)+1\n",
        "print(total_words)\n",
        "\n",
        "#now we will sepaarate a given input sequence into different lengths and pad each length\n",
        "input_sequences = []\n",
        "for line in corpus:\n",
        "\ttoken_list = tokenizer.texts_to_sequences([line])[0]\n",
        "\tfor i in range(1, len(token_list)):\n",
        "\t\tn_gram_sequence = token_list[:i+1]\n",
        "\t\tinput_sequences.append(n_gram_sequence)\n",
        "    \n",
        "#here we need to find a maximum length for a given input sequence and we will pad the remaining lengths accordingly\n",
        "max_sequence_len = max([len(x) for x in input_sequences])\n",
        "input_sequences = np.array(pad_sequences(input_sequences, maxlen=max_sequence_len, padding='pre'))\n",
        "\n",
        "# now we need to make our training and testing dataset for the model\n",
        "predictors, label = input_sequences[:,:-1],input_sequences[:,-1]\n",
        "#here the the label will be the last word of agiven sequence and the training set will be the remaining sentence and we need the categorize our label dataset\n",
        "label = ku.to_categorical(label, num_classes=total_words)"
      ],
      "execution_count": 0,
      "outputs": [
        {
          "output_type": "stream",
          "text": [
            "3211\n"
          ],
          "name": "stdout"
        }
      ]
    },
    {
      "cell_type": "code",
      "metadata": {
        "id": "8uAxMuZjc7Br",
        "colab_type": "code",
        "outputId": "51cf57fa-a31f-4c5d-b730-38c5dd5dc4fd",
        "colab": {
          "base_uri": "https://localhost:8080/",
          "height": 649
        }
      },
      "source": [
        "#defining our model\n",
        "model = Sequential()\n",
        "model.add(Embedding(total_words,100,input_length=max_sequence_len-1))\n",
        "model.add(Bidirectional(LSTM(150, return_sequences = True)))\n",
        "model.add(Dropout(0.2))\n",
        "model.add(LSTM(100))\n",
        "model.add(Dense(total_words/2, activation='relu', kernel_regularizer=regularizers.l2(0.01)))\n",
        "model.add(Dense(total_words, activation='softmax'))\n",
        "model.compile(loss='categorical_crossentropy', optimizer='adam', metrics=['accuracy'])\n",
        "print(model.summary())"
      ],
      "execution_count": 0,
      "outputs": [
        {
          "output_type": "stream",
          "text": [
            "WARNING:tensorflow:From /usr/local/lib/python3.6/dist-packages/tensorflow_core/python/keras/initializers.py:119: calling RandomUniform.__init__ (from tensorflow.python.ops.init_ops) with dtype is deprecated and will be removed in a future version.\n",
            "Instructions for updating:\n",
            "Call initializer instance with the dtype argument instead of passing it to the constructor\n",
            "WARNING:tensorflow:From /usr/local/lib/python3.6/dist-packages/tensorflow_core/python/ops/resource_variable_ops.py:1630: calling BaseResourceVariable.__init__ (from tensorflow.python.ops.resource_variable_ops) with constraint is deprecated and will be removed in a future version.\n",
            "Instructions for updating:\n",
            "If using Keras pass *_constraint arguments to layers.\n",
            "WARNING:tensorflow:From /usr/local/lib/python3.6/dist-packages/tensorflow_core/python/ops/init_ops.py:97: calling GlorotUniform.__init__ (from tensorflow.python.ops.init_ops) with dtype is deprecated and will be removed in a future version.\n",
            "Instructions for updating:\n",
            "Call initializer instance with the dtype argument instead of passing it to the constructor\n",
            "WARNING:tensorflow:From /usr/local/lib/python3.6/dist-packages/tensorflow_core/python/ops/init_ops.py:97: calling Orthogonal.__init__ (from tensorflow.python.ops.init_ops) with dtype is deprecated and will be removed in a future version.\n",
            "Instructions for updating:\n",
            "Call initializer instance with the dtype argument instead of passing it to the constructor\n",
            "WARNING:tensorflow:From /usr/local/lib/python3.6/dist-packages/tensorflow_core/python/ops/init_ops.py:97: calling Zeros.__init__ (from tensorflow.python.ops.init_ops) with dtype is deprecated and will be removed in a future version.\n",
            "Instructions for updating:\n",
            "Call initializer instance with the dtype argument instead of passing it to the constructor\n",
            "Model: \"sequential\"\n",
            "_________________________________________________________________\n",
            "Layer (type)                 Output Shape              Param #   \n",
            "=================================================================\n",
            "embedding (Embedding)        (None, 10, 100)           321100    \n",
            "_________________________________________________________________\n",
            "bidirectional (Bidirectional (None, 10, 300)           301200    \n",
            "_________________________________________________________________\n",
            "dropout (Dropout)            (None, 10, 300)           0         \n",
            "_________________________________________________________________\n",
            "lstm_1 (LSTM)                (None, 100)               160400    \n",
            "_________________________________________________________________\n",
            "dense (Dense)                (None, 1605)              162105    \n",
            "_________________________________________________________________\n",
            "dense_1 (Dense)              (None, 3211)              5156866   \n",
            "=================================================================\n",
            "Total params: 6,101,671\n",
            "Trainable params: 6,101,671\n",
            "Non-trainable params: 0\n",
            "_________________________________________________________________\n",
            "None\n"
          ],
          "name": "stdout"
        }
      ]
    },
    {
      "cell_type": "code",
      "metadata": {
        "id": "ZpWUL3VgeTxO",
        "colab_type": "code",
        "outputId": "53cc302f-9da9-4006-cc46-f6bbe2ce8056",
        "colab": {
          "base_uri": "https://localhost:8080/",
          "height": 1000
        }
      },
      "source": [
        "istory = model.fit(predictors, label, epochs=100, verbose=1)"
      ],
      "execution_count": 0,
      "outputs": [
        {
          "output_type": "stream",
          "text": [
            "WARNING:tensorflow:From /usr/local/lib/python3.6/dist-packages/tensorflow_core/python/ops/math_grad.py:1424: where (from tensorflow.python.ops.array_ops) is deprecated and will be removed in a future version.\n",
            "Instructions for updating:\n",
            "Use tf.where in 2.0, which has the same broadcast rule as np.where\n",
            "Train on 15462 samples\n",
            "Epoch 1/100\n",
            "15462/15462 [==============================] - 32s 2ms/sample - loss: 6.9000 - acc: 0.0206\n",
            "Epoch 2/100\n",
            "15462/15462 [==============================] - 32s 2ms/sample - loss: 6.4997 - acc: 0.0215\n",
            "Epoch 3/100\n",
            "15462/15462 [==============================] - 33s 2ms/sample - loss: 6.3850 - acc: 0.0258\n",
            "Epoch 4/100\n",
            "15462/15462 [==============================] - 33s 2ms/sample - loss: 6.2648 - acc: 0.0295\n",
            "Epoch 5/100\n",
            "15462/15462 [==============================] - 33s 2ms/sample - loss: 6.1784 - acc: 0.0350\n",
            "Epoch 6/100\n",
            "15462/15462 [==============================] - 33s 2ms/sample - loss: 6.0971 - acc: 0.0375\n",
            "Epoch 7/100\n",
            "15462/15462 [==============================] - 32s 2ms/sample - loss: 6.0166 - acc: 0.0394\n",
            "Epoch 8/100\n",
            "15462/15462 [==============================] - 31s 2ms/sample - loss: 5.9316 - acc: 0.0433\n",
            "Epoch 9/100\n",
            "15462/15462 [==============================] - 31s 2ms/sample - loss: 5.8262 - acc: 0.0518\n",
            "Epoch 10/100\n",
            "15462/15462 [==============================] - 32s 2ms/sample - loss: 5.7223 - acc: 0.0567\n",
            "Epoch 11/100\n",
            "15462/15462 [==============================] - 31s 2ms/sample - loss: 5.6105 - acc: 0.0632\n",
            "Epoch 12/100\n",
            "15462/15462 [==============================] - 31s 2ms/sample - loss: 5.4963 - acc: 0.0717\n",
            "Epoch 13/100\n",
            "15462/15462 [==============================] - 31s 2ms/sample - loss: 5.3863 - acc: 0.0752\n",
            "Epoch 14/100\n",
            "15462/15462 [==============================] - 31s 2ms/sample - loss: 5.2787 - acc: 0.0839\n",
            "Epoch 15/100\n",
            "15462/15462 [==============================] - 31s 2ms/sample - loss: 5.1653 - acc: 0.0927\n",
            "Epoch 16/100\n",
            "15462/15462 [==============================] - 31s 2ms/sample - loss: 5.0607 - acc: 0.0996\n",
            "Epoch 17/100\n",
            "15462/15462 [==============================] - 31s 2ms/sample - loss: 4.9531 - acc: 0.1095\n",
            "Epoch 18/100\n",
            "15462/15462 [==============================] - 31s 2ms/sample - loss: 4.8422 - acc: 0.1167\n",
            "Epoch 19/100\n",
            "15462/15462 [==============================] - 31s 2ms/sample - loss: 4.7374 - acc: 0.1270\n",
            "Epoch 20/100\n",
            "15462/15462 [==============================] - 32s 2ms/sample - loss: 4.6302 - acc: 0.1356\n",
            "Epoch 21/100\n",
            "15462/15462 [==============================] - 33s 2ms/sample - loss: 4.5201 - acc: 0.1477\n",
            "Epoch 22/100\n",
            "15462/15462 [==============================] - 33s 2ms/sample - loss: 4.4093 - acc: 0.1583\n",
            "Epoch 23/100\n",
            "15462/15462 [==============================] - 33s 2ms/sample - loss: 4.3036 - acc: 0.1733\n",
            "Epoch 24/100\n",
            "15462/15462 [==============================] - 33s 2ms/sample - loss: 4.1909 - acc: 0.1861\n",
            "Epoch 25/100\n",
            "15462/15462 [==============================] - 33s 2ms/sample - loss: 4.0861 - acc: 0.1988\n",
            "Epoch 26/100\n",
            "15462/15462 [==============================] - 32s 2ms/sample - loss: 3.9829 - acc: 0.2096\n",
            "Epoch 27/100\n",
            "15462/15462 [==============================] - 32s 2ms/sample - loss: 3.8763 - acc: 0.2326\n",
            "Epoch 28/100\n",
            "15462/15462 [==============================] - 31s 2ms/sample - loss: 3.7730 - acc: 0.2545\n",
            "Epoch 29/100\n",
            "15462/15462 [==============================] - 31s 2ms/sample - loss: 3.6740 - acc: 0.2684\n",
            "Epoch 30/100\n",
            "15462/15462 [==============================] - 31s 2ms/sample - loss: 3.5746 - acc: 0.2954\n",
            "Epoch 31/100\n",
            "15462/15462 [==============================] - 31s 2ms/sample - loss: 3.4788 - acc: 0.3124\n",
            "Epoch 32/100\n",
            "15462/15462 [==============================] - 31s 2ms/sample - loss: 3.3903 - acc: 0.3335\n",
            "Epoch 33/100\n",
            "15462/15462 [==============================] - 31s 2ms/sample - loss: 3.3019 - acc: 0.3533\n",
            "Epoch 34/100\n",
            "15462/15462 [==============================] - 31s 2ms/sample - loss: 3.2072 - acc: 0.3723\n",
            "Epoch 35/100\n",
            "15462/15462 [==============================] - 34s 2ms/sample - loss: 3.1417 - acc: 0.3840\n",
            "Epoch 36/100\n",
            "15462/15462 [==============================] - 32s 2ms/sample - loss: 3.0494 - acc: 0.4081\n",
            "Epoch 37/100\n",
            "15462/15462 [==============================] - 32s 2ms/sample - loss: 2.9815 - acc: 0.4220\n",
            "Epoch 38/100\n",
            "15462/15462 [==============================] - 33s 2ms/sample - loss: 2.9017 - acc: 0.4398\n",
            "Epoch 39/100\n",
            "15462/15462 [==============================] - 33s 2ms/sample - loss: 2.8251 - acc: 0.4546\n",
            "Epoch 40/100\n",
            "15462/15462 [==============================] - 33s 2ms/sample - loss: 2.7664 - acc: 0.4697\n",
            "Epoch 41/100\n",
            "15462/15462 [==============================] - 32s 2ms/sample - loss: 2.7049 - acc: 0.4854\n",
            "Epoch 42/100\n",
            "15462/15462 [==============================] - 31s 2ms/sample - loss: 2.6337 - acc: 0.5049\n",
            "Epoch 43/100\n",
            "15462/15462 [==============================] - 31s 2ms/sample - loss: 2.5581 - acc: 0.5169\n",
            "Epoch 44/100\n",
            "15462/15462 [==============================] - 31s 2ms/sample - loss: 2.5175 - acc: 0.5279\n",
            "Epoch 45/100\n",
            "15462/15462 [==============================] - 31s 2ms/sample - loss: 2.4522 - acc: 0.5440\n",
            "Epoch 46/100\n",
            "15462/15462 [==============================] - 32s 2ms/sample - loss: 2.4043 - acc: 0.5510\n",
            "Epoch 47/100\n",
            "15462/15462 [==============================] - 31s 2ms/sample - loss: 2.3537 - acc: 0.5612\n",
            "Epoch 48/100\n",
            "15462/15462 [==============================] - 31s 2ms/sample - loss: 2.2876 - acc: 0.5815\n",
            "Epoch 49/100\n",
            "15462/15462 [==============================] - 31s 2ms/sample - loss: 2.2336 - acc: 0.5930\n",
            "Epoch 50/100\n",
            "15462/15462 [==============================] - 32s 2ms/sample - loss: 2.1944 - acc: 0.5982\n",
            "Epoch 51/100\n",
            "15462/15462 [==============================] - 31s 2ms/sample - loss: 2.1480 - acc: 0.6046\n",
            "Epoch 52/100\n",
            "15462/15462 [==============================] - 31s 2ms/sample - loss: 2.0950 - acc: 0.6241\n",
            "Epoch 53/100\n",
            "15462/15462 [==============================] - 32s 2ms/sample - loss: 2.0663 - acc: 0.6278\n",
            "Epoch 54/100\n",
            "15462/15462 [==============================] - 32s 2ms/sample - loss: 2.0255 - acc: 0.6341\n",
            "Epoch 55/100\n",
            "15462/15462 [==============================] - 32s 2ms/sample - loss: 1.9816 - acc: 0.6452\n",
            "Epoch 56/100\n",
            "15462/15462 [==============================] - 32s 2ms/sample - loss: 1.9468 - acc: 0.6511\n",
            "Epoch 57/100\n",
            "15462/15462 [==============================] - 32s 2ms/sample - loss: 1.9003 - acc: 0.6638\n",
            "Epoch 58/100\n",
            "15462/15462 [==============================] - 33s 2ms/sample - loss: 1.8727 - acc: 0.6687\n",
            "Epoch 59/100\n",
            "15462/15462 [==============================] - 32s 2ms/sample - loss: 1.8346 - acc: 0.6739\n",
            "Epoch 60/100\n",
            "15462/15462 [==============================] - 33s 2ms/sample - loss: 1.8001 - acc: 0.6815\n",
            "Epoch 61/100\n",
            "15462/15462 [==============================] - 33s 2ms/sample - loss: 1.7654 - acc: 0.6883\n",
            "Epoch 62/100\n",
            "15462/15462 [==============================] - 32s 2ms/sample - loss: 1.7344 - acc: 0.6986\n",
            "Epoch 63/100\n",
            "15462/15462 [==============================] - 32s 2ms/sample - loss: 1.7171 - acc: 0.6984\n",
            "Epoch 64/100\n",
            "15462/15462 [==============================] - 32s 2ms/sample - loss: 1.6934 - acc: 0.7025\n",
            "Epoch 65/100\n",
            "15462/15462 [==============================] - 32s 2ms/sample - loss: 1.6820 - acc: 0.7065\n",
            "Epoch 66/100\n",
            "15462/15462 [==============================] - 32s 2ms/sample - loss: 1.6229 - acc: 0.7187\n",
            "Epoch 67/100\n",
            "15462/15462 [==============================] - 32s 2ms/sample - loss: 1.5972 - acc: 0.7254\n",
            "Epoch 68/100\n",
            "15462/15462 [==============================] - 32s 2ms/sample - loss: 1.5752 - acc: 0.7258\n",
            "Epoch 69/100\n",
            "15462/15462 [==============================] - 32s 2ms/sample - loss: 1.5536 - acc: 0.7319\n",
            "Epoch 70/100\n",
            "15462/15462 [==============================] - 32s 2ms/sample - loss: 1.5368 - acc: 0.7363\n",
            "Epoch 71/100\n",
            "15462/15462 [==============================] - 32s 2ms/sample - loss: 1.5266 - acc: 0.7321\n",
            "Epoch 72/100\n",
            "15462/15462 [==============================] - 32s 2ms/sample - loss: 1.4998 - acc: 0.7414\n",
            "Epoch 73/100\n",
            "15462/15462 [==============================] - 32s 2ms/sample - loss: 1.4683 - acc: 0.7484\n",
            "Epoch 74/100\n",
            "15462/15462 [==============================] - 32s 2ms/sample - loss: 1.4536 - acc: 0.7491\n",
            "Epoch 75/100\n",
            "15462/15462 [==============================] - 32s 2ms/sample - loss: 1.4318 - acc: 0.7559\n",
            "Epoch 76/100\n",
            "15462/15462 [==============================] - 32s 2ms/sample - loss: 1.4246 - acc: 0.7529\n",
            "Epoch 77/100\n",
            "15462/15462 [==============================] - 32s 2ms/sample - loss: 1.4027 - acc: 0.7617\n",
            "Epoch 78/100\n",
            "15462/15462 [==============================] - 32s 2ms/sample - loss: 1.3730 - acc: 0.7665\n",
            "Epoch 79/100\n",
            "15462/15462 [==============================] - 32s 2ms/sample - loss: 1.3620 - acc: 0.7657\n",
            "Epoch 80/100\n",
            "15462/15462 [==============================] - 32s 2ms/sample - loss: 1.3462 - acc: 0.7683\n",
            "Epoch 81/100\n",
            "15462/15462 [==============================] - 32s 2ms/sample - loss: 1.3177 - acc: 0.7778\n",
            "Epoch 82/100\n",
            "15462/15462 [==============================] - 32s 2ms/sample - loss: 1.3093 - acc: 0.7780\n",
            "Epoch 83/100\n",
            "15462/15462 [==============================] - 32s 2ms/sample - loss: 1.3046 - acc: 0.7763\n",
            "Epoch 84/100\n",
            "15462/15462 [==============================] - 32s 2ms/sample - loss: 1.2969 - acc: 0.7780\n",
            "Epoch 85/100\n",
            "15462/15462 [==============================] - 33s 2ms/sample - loss: 1.2773 - acc: 0.7817\n",
            "Epoch 86/100\n",
            "15462/15462 [==============================] - 32s 2ms/sample - loss: 1.2742 - acc: 0.7800\n",
            "Epoch 87/100\n",
            "15462/15462 [==============================] - 32s 2ms/sample - loss: 1.2616 - acc: 0.7836\n",
            "Epoch 88/100\n",
            "15462/15462 [==============================] - 32s 2ms/sample - loss: 1.2345 - acc: 0.7884\n",
            "Epoch 89/100\n",
            "15462/15462 [==============================] - 32s 2ms/sample - loss: 1.2103 - acc: 0.7945\n",
            "Epoch 90/100\n",
            "15462/15462 [==============================] - 32s 2ms/sample - loss: 1.2054 - acc: 0.7914\n",
            "Epoch 91/100\n",
            "15462/15462 [==============================] - 32s 2ms/sample - loss: 1.1925 - acc: 0.7945\n",
            "Epoch 92/100\n",
            "15462/15462 [==============================] - 32s 2ms/sample - loss: 1.1968 - acc: 0.7925\n",
            "Epoch 93/100\n",
            "15462/15462 [==============================] - 32s 2ms/sample - loss: 1.1817 - acc: 0.7936\n",
            "Epoch 94/100\n",
            "15462/15462 [==============================] - 32s 2ms/sample - loss: 1.1761 - acc: 0.7946\n",
            "Epoch 95/100\n",
            "15462/15462 [==============================] - 32s 2ms/sample - loss: 1.1630 - acc: 0.7976\n",
            "Epoch 96/100\n",
            "15462/15462 [==============================] - 32s 2ms/sample - loss: 1.1619 - acc: 0.7975\n",
            "Epoch 97/100\n",
            "15462/15462 [==============================] - 32s 2ms/sample - loss: 1.1335 - acc: 0.8027\n",
            "Epoch 98/100\n",
            "15462/15462 [==============================] - 32s 2ms/sample - loss: 1.1225 - acc: 0.8025\n",
            "Epoch 99/100\n",
            "15462/15462 [==============================] - 32s 2ms/sample - loss: 1.1212 - acc: 0.8046\n",
            "Epoch 100/100\n",
            "15462/15462 [==============================] - 32s 2ms/sample - loss: 1.1275 - acc: 0.8014\n"
          ],
          "name": "stdout"
        }
      ]
    },
    {
      "cell_type": "code",
      "metadata": {
        "id": "lkFFMldqkjju",
        "colab_type": "code",
        "outputId": "78d67347-f920-4e4f-8a12-4ebf45180b54",
        "colab": {
          "base_uri": "https://localhost:8080/",
          "height": 545
        }
      },
      "source": [
        "import matplotlib.pyplot as plt\n",
        "acc = istory.history['acc']\n",
        "loss = istory.history['loss']\n",
        "\n",
        "epochs = range(len(acc))\n",
        "\n",
        "plt.plot(epochs, acc, 'b', label='Training accuracy')\n",
        "plt.title('Training accuracy')\n",
        "\n",
        "plt.figure()\n",
        "\n",
        "plt.plot(epochs, loss, 'b', label='Training Loss')\n",
        "plt.title('Training loss')\n",
        "plt.legend()\n",
        "\n",
        "plt.show()"
      ],
      "execution_count": 0,
      "outputs": [
        {
          "output_type": "display_data",
          "data": {
            "image/png": "[encoded data removed]",
            "text/plain": [
              "<Figure size 432x288 with 1 Axes>"
            ]
          },
          "metadata": {
            "tags": []
          }
        },
        {
          "output_type": "display_data",
          "data": {
            "image/png": "[encoded data removed]",
            "text/plain": [
              "<Figure size 432x288 with 1 Axes>"
            ]
          },
          "metadata": {
            "tags": []
          }
        }
      ]
    },
    {
      "cell_type": "code",
      "metadata": {
        "id": "Wo-2_4bVkm2R",
        "colab_type": "code",
        "outputId": "fec0afad-52d5-4406-8739-356d63d11a2d",
        "colab": {
          "base_uri": "https://localhost:8080/",
          "height": 54
        }
      },
      "source": [
        "seed_text = \"Help me Obi Wan Kenobi, you're my only hope\"\n",
        "next_words = 100\n",
        "  \n",
        "for _ in range(next_words):\n",
        "\ttoken_list = tokenizer.texts_to_sequences([seed_text])[0]\n",
        "\ttoken_list = pad_sequences([token_list], maxlen=max_sequence_len-1, padding='pre')\n",
        "\tpredicted = model.predict_classes(token_list, verbose=0)\n",
        "\toutput_word = \"\"\n",
        "\tfor word, index in tokenizer.word_index.items():\n",
        "\t\tif index == predicted:\n",
        "\t\t\toutput_word = word\n",
        "\t\t\tbreak\n",
        "\tseed_text += \" \" + output_word\n",
        "print(seed_text)"
      ],
      "execution_count": 0,
      "outputs": [
        {
          "output_type": "stream",
          "text": [
            "Help me Obi Wan Kenobi, you're my only hope was many a end ' remain torn light light light taken taken taken women's fashion here lived to be bad men bright true tongue ' are shown torn taken now cease light fight burn survey hate shines still there taken another needing needing good doom ill ill rhyme lend room shown young of light hate hate exchanged leaves lie you be twain you be bright bright are done see shame young to catch her growest too dwell doth dwell new grow light pain arising decay another kings rare men me be dwell still rare rare ' releasing keep me alone\n"
          ],
          "name": "stdout"
        }
      ]
    }
  ]
}